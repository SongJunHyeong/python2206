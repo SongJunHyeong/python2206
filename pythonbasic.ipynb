{
  "nbformat": 4,
  "nbformat_minor": 0,
  "metadata": {
    "colab": {
      "name": "pythonbasic.ipynb",
      "provenance": [],
      "collapsed_sections": [],
      "authorship_tag": "ABX9TyNZKIoh+ri0SOic2kYKRDrE",
      "include_colab_link": true
    },
    "kernelspec": {
      "name": "python3",
      "display_name": "Python 3"
    },
    "language_info": {
      "name": "python"
    }
  },
  "cells": [
    {
      "cell_type": "markdown",
      "metadata": {
        "id": "view-in-github",
        "colab_type": "text"
      },
      "source": [
        "<a href=\"https://colab.research.google.com/github/SongJunHyeong/python2206/blob/main/pythonbasic.ipynb\" target=\"_parent\"><img src=\"https://colab.research.google.com/assets/colab-badge.svg\" alt=\"Open In Colab\"/></a>"
      ]
    },
    {
      "cell_type": "code",
      "execution_count": 1,
      "metadata": {
        "colab": {
          "base_uri": "https://localhost:8080/"
        },
        "id": "BuRD601dAcx7",
        "outputId": "6ba34ce6-74e4-46b6-9e19-c06fbe671a36"
      },
      "outputs": [
        {
          "output_type": "stream",
          "name": "stdout",
          "text": [
            "Hello World\n"
          ]
        }
      ],
      "source": [
        "print(\"Hello World\")"
      ]
    },
    {
      "cell_type": "code",
      "source": [
        "# 6 기초 - 주석/변수 Comment/Variable\n",
        "\n",
        "# 자바에서의 주석 //     /* */ 처럼 파이썬에서는 #을 주석 기호로 사용한다. \n",
        "#  \"\"\" \"\"\" 삼중 따옴표로 여러줄 주석 처럼 사용한다.\n",
        "\n",
        "# Hello World\n",
        "# Heelo\n",
        "# Python\n",
        "\n",
        "#변수\n",
        "int age = 21 \n",
        "name = \"홍길동\"\n",
        "\n",
        "type(name)\n"
      ],
      "metadata": {
        "id": "r9sSsXR7icpC"
      },
      "execution_count": null,
      "outputs": []
    },
    {
      "cell_type": "code",
      "source": [
        "#변수\n",
        "\n",
        "#자바나 씨 등의 언어와는 달리 변수를 선언할 때 앞에서 형을 정해주지 않는다.\n",
        "#선언과 동시에 파이썬이 데이터를 알아서 정수인지 문자열인지 판단을 하여 저장한다.\n",
        "\n",
        "age = 21 \n",
        "name = \"홍길동\"\n",
        "\n",
        "age, name = 21, \"홍길동\"\n",
        "\n",
        "#변수명 선언 방법\n",
        "\n",
        "#1 문자 숫자 _ 만 사용\n",
        "#2 숫자로 시작할수는 없다. A100(O) 100A(X)\n",
        "#3 예약어는 사용할 수 없다. print, class ....\n",
        "#4 대소 문자를 구분한다. a = 100, A = 100 별개의 변수\n",
        "#5 변수명은 영어로만 만들자 (한글로도 만들수는 있다.)\n",
        "\n",
        "korea = 63000\n",
        "print(korea * 100)"
      ],
      "metadata": {
        "colab": {
          "base_uri": "https://localhost:8080/"
        },
        "id": "HQSAQUF1lO-c",
        "outputId": "6c945d0f-8c53-4038-82b5-682d8c9bb2f5"
      },
      "execution_count": 4,
      "outputs": [
        {
          "output_type": "stream",
          "name": "stdout",
          "text": [
            "6300000\n"
          ]
        }
      ]
    },
    {
      "cell_type": "code",
      "source": [
        "print(\"Austin's pie\") # 기호로써의 '를 표시하고 싶을때는 \"\"를 사용하여 열고 닫는다.\n",
        "print('Austin\\'s pie') #"
      ],
      "metadata": {
        "id": "koioc2LFpys_"
      },
      "execution_count": null,
      "outputs": []
    },
    {
      "cell_type": "code",
      "source": [
        "# 7 기초 - 기본 자료형 Data Type\n",
        "\n",
        "# 숫자형\n",
        "\n",
        "a = 3\n",
        "b = 3.14\n",
        "c = -2\n",
        "\n",
        "type(b)"
      ],
      "metadata": {
        "colab": {
          "base_uri": "https://localhost:8080/"
        },
        "id": "3wYIOsH7tPMd",
        "outputId": "fdf6c639-dc39-435c-e488-46d5489b9dd5"
      },
      "execution_count": 5,
      "outputs": [
        {
          "output_type": "execute_result",
          "data": {
            "text/plain": [
              "float"
            ]
          },
          "metadata": {},
          "execution_count": 5
        }
      ]
    },
    {
      "cell_type": "code",
      "source": [
        "43 / 4\n",
        "\n",
        "43 // 4\n",
        "\n",
        "43 % 4 # % 나머지 연산자로 홀수 / 짝수 / 배수 를 알아낼수 있다."
      ],
      "metadata": {
        "colab": {
          "base_uri": "https://localhost:8080/"
        },
        "id": "eNzYaOyItbQ9",
        "outputId": "d3a41021-f7a9-4bf5-d6aa-ceb3ad877064"
      },
      "execution_count": 6,
      "outputs": [
        {
          "output_type": "execute_result",
          "data": {
            "text/plain": [
              "10.75"
            ]
          },
          "metadata": {},
          "execution_count": 6
        }
      ]
    },
    {
      "cell_type": "code",
      "source": [
        "# 불형 bool or boolean -> True False\n",
        "\n",
        "1 == 1"
      ],
      "metadata": {
        "colab": {
          "base_uri": "https://localhost:8080/"
        },
        "id": "ugqX70LwusfN",
        "outputId": "27c213f4-995e-4d5e-82af-3d25314e9992"
      },
      "execution_count": 7,
      "outputs": [
        {
          "output_type": "execute_result",
          "data": {
            "text/plain": [
              "True"
            ]
          },
          "metadata": {},
          "execution_count": 7
        }
      ]
    },
    {
      "cell_type": "code",
      "source": [
        "1 != 1"
      ],
      "metadata": {
        "id": "18ZUzGlDvEEm"
      },
      "execution_count": null,
      "outputs": []
    },
    {
      "cell_type": "code",
      "source": [
        "# 문자열...\n",
        "\n",
        "name1 = \"Austin\" #파이썬에서는 큰따옴표와\n",
        "name2 = \"austin\" # 작은 따옴표 모두 문자열을 나타낸다.\n",
        "age = \"30\" # 숫자라도 따옴표가 있으면 문자로 처리된다.\n",
        "age = 30    # 숫자는 따옴표가 없다.\n",
        "\n",
        "# 문자열에서의 인덱싱 - 몇 번째 글자 하나\n",
        "\n",
        "words = \"I love you\" # 어떤 문자열에서 글자하나만 추출 -> v\n",
        "\n",
        "print(words[4])\n",
        "\n",
        "# 파이선에서의 독특한 인덱싱 방법 , 마지막 한글자만 추출, 뒤에서부터는 -1 부터 센다.\n",
        "print(words[-1])\n",
        "\n",
        "# 문자열에서의 슬라이싱 - 글자 몇개\n",
        "\n",
        "words = \"I love you\"\n",
        "words[2:5] #[시작 : 미만]\n",
        "\n",
        "# 문자열에서의 인덱싱과 슬라이싱 기법은 그대로 리스트와 튜플에서도 동일하게 사용된다."
      ],
      "metadata": {
        "colab": {
          "base_uri": "https://localhost:8080/"
        },
        "id": "QdKAHTHZvWJR",
        "outputId": "a2e29e4a-006f-4a35-d3c5-f71f29eb0c3d"
      },
      "execution_count": 8,
      "outputs": [
        {
          "output_type": "stream",
          "name": "stdout",
          "text": [
            "v\n"
          ]
        }
      ]
    }
  ]
}